{
  "nbformat": 4,
  "nbformat_minor": 0,
  "metadata": {
    "colab": {
      "provenance": [],
      "authorship_tag": "ABX9TyNoXBhXvlPSagYWTVgC8Ztk",
      "include_colab_link": true
    },
    "kernelspec": {
      "name": "python3",
      "display_name": "Python 3"
    },
    "language_info": {
      "name": "python"
    }
  },
  "cells": [
    {
      "cell_type": "markdown",
      "metadata": {
        "id": "view-in-github",
        "colab_type": "text"
      },
      "source": [
        "<a href=\"https://colab.research.google.com/github/arsevensix/classx/blob/main/practicals.ipynb\" target=\"_parent\"><img src=\"https://colab.research.google.com/assets/colab-badge.svg\" alt=\"Open In Colab\"/></a>"
      ]
    },
    {
      "cell_type": "code",
      "source": [
        "age = int(input(\"enter your age: \"))\n",
        "\n",
        "if age >= 18:\n",
        "\tprint(\"person eligible to vote\")\n",
        "else:\n",
        "\tprint(\"person ineligible to vote\")\n"
      ],
      "metadata": {
        "id": "2YAuPhAAJCwM"
      },
      "execution_count": null,
      "outputs": []
    },
    {
      "cell_type": "code",
      "source": [
        "name = input(\"enter your name: \")\n",
        "fname = input(\"enter your father's name: \")\n",
        "mname = input(\"enter your mother's name: \")\n",
        "clas = input(\"enter your class: \")\n",
        "hobby = input(\"enter your hobbies: \")\n",
        "\n",
        "print(\"my name is\", name)\n",
        "print(\"my father's name is\", fname)\n",
        "print(\"my mother's name is\", mname)\n",
        "print(\"i study in class\", clas)\n",
        "print(\"my hobby is\", hobby)\n"
      ],
      "metadata": {
        "id": "1gg6j7jUJPJk"
      },
      "execution_count": null,
      "outputs": []
    },
    {
      "cell_type": "code",
      "source": [
        "p = float(input(\"enter principal amount: \"))\n",
        "r = float(input(\"enter rate of interest: \"))\n",
        "t = float(input(\"enter time period (in yrs): \"))\n",
        "\n",
        "si = (p * r * t) / 100\n",
        "\n",
        "print(\"simple interest is: \", si)\n"
      ],
      "metadata": {
        "id": "-I1m57GUJTek"
      },
      "execution_count": null,
      "outputs": []
    },
    {
      "cell_type": "code",
      "source": [
        "n = int(input(\"enter your number: \"))\n",
        "\n",
        "if n % 2 == 0:\n",
        "\tprint(\"number is even\")\n",
        "else:\n",
        "\tprint(\"number is odd\")\n"
      ],
      "metadata": {
        "id": "62ZuxrIYJY7s"
      },
      "execution_count": null,
      "outputs": []
    },
    {
      "cell_type": "code",
      "source": [
        "var1 = int(input(\"enter variable 1: \"))\n",
        "var2 = int(input(\"enter variable 2: \"))\n",
        "temp = var1\n",
        "var1 = var2\n",
        "var2 = temp\n",
        "\n",
        "print(\"variable 1 is now: \", var1)\n",
        "print(\"variable 2 is now: \", var2)\n"
      ],
      "metadata": {
        "id": "p9JRXtK_Jb_v"
      },
      "execution_count": null,
      "outputs": []
    },
    {
      "cell_type": "code",
      "source": [
        "num1 = int(input(\"enter first number: \"))\n",
        "num2 = int(input(\"enter second number: \"))\n",
        "num3 = int(input(\"enter third number: \"))\n",
        "\n",
        "maximum = num1\n",
        "minimum = num1\n",
        "\n",
        "if minimum > num2:\n",
        "\tminimum = num2\n",
        "if minimum > num3:\n",
        "\tminimum = num3\n",
        "if maximum < num2:\n",
        "\tmaximum = num2\n",
        "if maximum < num3:\n",
        "\tmaximum = num3\n",
        "\n",
        "print(\"max number is:\", maximum)\n",
        "print(\"min number is:\", minimum)\n"
      ],
      "metadata": {
        "id": "CsUdIxQuJfak"
      },
      "execution_count": null,
      "outputs": []
    },
    {
      "cell_type": "code",
      "source": [
        "n = int(input(\"enter number: \"))\n",
        "\n",
        "for i in range(n):\n",
        "\tfor j in range (i + 1):\n",
        "\t\tprint(\"*\", end=\"\")\n",
        "\tprint(\"\\n\")\n"
      ],
      "metadata": {
        "id": "kysQ8fM5JjpP"
      },
      "execution_count": null,
      "outputs": []
    },
    {
      "cell_type": "code",
      "source": [
        "ch = input(\"enter character: \")\n",
        "\n",
        "if ch==\"a\" or ch==\"A\" or ch==\"e\" or ch==\"E\" or ch==\"i\" or ch==\"I\" or ch==\"o\" or ch==\"O\" or ch==\"u\" or ch==\"U\":\n",
        "\tprint(\"vowel\")\n",
        "else:\n",
        "\tprint(\"consonant\")\n"
      ],
      "metadata": {
        "id": "aNg4BeVSJq78"
      },
      "execution_count": null,
      "outputs": []
    },
    {
      "cell_type": "code",
      "source": [
        "height = float(input(\"enter height (in cm): \"))\n",
        "weight = float(input(\"enter weight (in kg): \"))\n",
        "\n",
        "bmi = weight / (height / 100) ** 2\n",
        "\n",
        "print(\"your bmi is:\", bmi)\n",
        "\n",
        "if bmi <= 18.4:\n",
        "    print(\"you are underweight\")\n",
        "elif bmi <= 24.9:\n",
        "    print(\"you are healthy\")\n",
        "elif bmi <= 29.9:\n",
        "    print(\"you are overweight\")\n",
        "elif bmi <= 34.9:\n",
        "    print(\"you are severely overweight\")\n",
        "elif bmi <= 39.9:\n",
        "    print(\"you are obese\")\n",
        "else:\n",
        "    print(\"you are severely obese\")\n"
      ],
      "metadata": {
        "id": "9UepGaPeJu5_"
      },
      "execution_count": null,
      "outputs": []
    },
    {
      "cell_type": "code",
      "source": [
        "year = int(input(\"enter year: \"))\n",
        "\n",
        "if year % 4 == 0:\n",
        "    print(\"leap year\")\n",
        "elif year % 400 == 0:\n",
        "    print(\"leap year\")\n",
        "else:\n",
        "    print(\"not a leap year\")\n"
      ],
      "metadata": {
        "id": "0Wv_x6O0LEr0"
      },
      "execution_count": null,
      "outputs": []
    },
    {
      "cell_type": "code",
      "source": [
        "num = float(input(\"enter number: \"))\n",
        "\n",
        "if num > 0:\n",
        "    print(\"number is positive\")\n",
        "elif num < 0:\n",
        "    print(\"number is negative\")\n",
        "else:\n",
        "    print(\"number is zero\")\n"
      ],
      "metadata": {
        "id": "i4Wfv2NNNz8k"
      },
      "execution_count": null,
      "outputs": []
    },
    {
      "cell_type": "code",
      "source": [
        "import statistics as sts\n",
        "\n",
        "arr = [2, 5, 6 , 32, 2, 32, 52, 75, 2, 1, 23, 7, 4, 2, 2, 6, 86, 14, 55, 65, 4, 22]\n",
        "\n",
        "print(\"mean of the given data is:\", sts.mean(arr))\n",
        "print(\"median of the given data is:\", sts.median(arr))\n",
        "print(\"mode of the given data is:\", sts.mode(arr))\n"
      ],
      "metadata": {
        "id": "yUE7FtcAOq69"
      },
      "execution_count": null,
      "outputs": []
    },
    {
      "cell_type": "code",
      "source": [
        "import numpy as np\n",
        "\n",
        "arr = np.arange(5,65,5)\n",
        "arr = arr.reshape(3,4)\n",
        "\n",
        "print(arr)\n"
      ],
      "metadata": {
        "id": "WdmGEWZRQL7x"
      },
      "execution_count": null,
      "outputs": []
    },
    {
      "cell_type": "code",
      "source": [
        "import matplotlib.pyplot as plt\n",
        "\n",
        "subjects = ['english', 'hindi', 'math', 'science', 'social', 'ai']\n",
        "marks = [87, 92, 94, 80, 97, 95]\n",
        "\n",
        "plt.bar(subjects, marks, color = ['#811331', '#ADD8E6', 'red', 'green', 'yellow', 'pink'])\n",
        "plt.title('marks scored by akshat')\n",
        "plt.xlabel('subjects')\n",
        "plt.ylabel('marks')\n",
        "plt.show()\n"
      ],
      "metadata": {
        "id": "uf01ZBrVdqEB",
        "cellView": "code"
      },
      "execution_count": null,
      "outputs": []
    }
  ]
}